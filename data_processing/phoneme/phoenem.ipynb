{
 "cells": [
  {
   "cell_type": "code",
   "execution_count": 1,
   "metadata": {},
   "outputs": [],
   "source": [
    "from jamo import h2j, hangul_to_jamo, j2h, jamo_to_hcj"
   ]
  },
  {
   "cell_type": "code",
   "execution_count": 2,
   "metadata": {},
   "outputs": [],
   "source": [
    "_pad = \"pad\"\n",
    "_eos = \"eos\"\n",
    "_punctuation = \"!'(),-.:;? \"\n",
    "_special = \"-\"\n",
    "\n",
    "_jamo_leads = [chr(_) for _ in range(0x1100, 0x1113)]\n",
    "_jamo_vowels = [chr(_) for _ in range(0x1161, 0x1176)]\n",
    "_jamo_tails = [chr(_) for _ in range(0x11A8, 0x11C3)]"
   ]
  },
  {
   "cell_type": "code",
   "execution_count": 3,
   "metadata": {},
   "outputs": [
    {
     "data": {
      "text/plain": [
       "['ᄀ',\n",
       " 'ᄁ',\n",
       " 'ᄂ',\n",
       " 'ᄃ',\n",
       " 'ᄄ',\n",
       " 'ᄅ',\n",
       " 'ᄆ',\n",
       " 'ᄇ',\n",
       " 'ᄈ',\n",
       " 'ᄉ',\n",
       " 'ᄊ',\n",
       " 'ᄋ',\n",
       " 'ᄌ',\n",
       " 'ᄍ',\n",
       " 'ᄎ',\n",
       " 'ᄏ',\n",
       " 'ᄐ',\n",
       " 'ᄑ',\n",
       " 'ᄒ']"
      ]
     },
     "execution_count": 3,
     "metadata": {},
     "output_type": "execute_result"
    }
   ],
   "source": [
    "_jamo_leads"
   ]
  },
  {
   "cell_type": "code",
   "execution_count": 4,
   "metadata": {},
   "outputs": [
    {
     "data": {
      "text/plain": [
       "['ᅡ',\n",
       " 'ᅢ',\n",
       " 'ᅣ',\n",
       " 'ᅤ',\n",
       " 'ᅥ',\n",
       " 'ᅦ',\n",
       " 'ᅧ',\n",
       " 'ᅨ',\n",
       " 'ᅩ',\n",
       " 'ᅪ',\n",
       " 'ᅫ',\n",
       " 'ᅬ',\n",
       " 'ᅭ',\n",
       " 'ᅮ',\n",
       " 'ᅯ',\n",
       " 'ᅰ',\n",
       " 'ᅱ',\n",
       " 'ᅲ',\n",
       " 'ᅳ',\n",
       " 'ᅴ',\n",
       " 'ᅵ']"
      ]
     },
     "execution_count": 4,
     "metadata": {},
     "output_type": "execute_result"
    }
   ],
   "source": [
    "_jamo_vowels"
   ]
  },
  {
   "cell_type": "code",
   "execution_count": 5,
   "metadata": {},
   "outputs": [],
   "source": [
    "_letters = _jamo_leads + _jamo_vowels + _jamo_tails"
   ]
  },
  {
   "cell_type": "code",
   "execution_count": 6,
   "metadata": {},
   "outputs": [],
   "source": [
    "_pad = \"pad\"\n",
    "_eos = \"eos\"\n",
    "_punctuation = \"!'(),-.:;? \"\n",
    "_special = \"-\""
   ]
  },
  {
   "cell_type": "code",
   "execution_count": 7,
   "metadata": {},
   "outputs": [],
   "source": [
    "symbols = [_pad] + list(_special) + list(_punctuation) + _letters + [_eos]"
   ]
  },
  {
   "cell_type": "code",
   "execution_count": 8,
   "metadata": {},
   "outputs": [],
   "source": [
    "_symbol_to_id = {c: i for i, c in enumerate(symbols)}\n",
    "_id_to_symbol = {i: c for i, c in enumerate(symbols)}"
   ]
  },
  {
   "cell_type": "code",
   "execution_count": 9,
   "metadata": {},
   "outputs": [
    {
     "data": {
      "text/plain": [
       "{'pad': 0,\n",
       " '-': 7,\n",
       " '!': 2,\n",
       " \"'\": 3,\n",
       " '(': 4,\n",
       " ')': 5,\n",
       " ',': 6,\n",
       " '.': 8,\n",
       " ':': 9,\n",
       " ';': 10,\n",
       " '?': 11,\n",
       " ' ': 12,\n",
       " 'ᄀ': 13,\n",
       " 'ᄁ': 14,\n",
       " 'ᄂ': 15,\n",
       " 'ᄃ': 16,\n",
       " 'ᄄ': 17,\n",
       " 'ᄅ': 18,\n",
       " 'ᄆ': 19,\n",
       " 'ᄇ': 20,\n",
       " 'ᄈ': 21,\n",
       " 'ᄉ': 22,\n",
       " 'ᄊ': 23,\n",
       " 'ᄋ': 24,\n",
       " 'ᄌ': 25,\n",
       " 'ᄍ': 26,\n",
       " 'ᄎ': 27,\n",
       " 'ᄏ': 28,\n",
       " 'ᄐ': 29,\n",
       " 'ᄑ': 30,\n",
       " 'ᄒ': 31,\n",
       " 'ᅡ': 32,\n",
       " 'ᅢ': 33,\n",
       " 'ᅣ': 34,\n",
       " 'ᅤ': 35,\n",
       " 'ᅥ': 36,\n",
       " 'ᅦ': 37,\n",
       " 'ᅧ': 38,\n",
       " 'ᅨ': 39,\n",
       " 'ᅩ': 40,\n",
       " 'ᅪ': 41,\n",
       " 'ᅫ': 42,\n",
       " 'ᅬ': 43,\n",
       " 'ᅭ': 44,\n",
       " 'ᅮ': 45,\n",
       " 'ᅯ': 46,\n",
       " 'ᅰ': 47,\n",
       " 'ᅱ': 48,\n",
       " 'ᅲ': 49,\n",
       " 'ᅳ': 50,\n",
       " 'ᅴ': 51,\n",
       " 'ᅵ': 52,\n",
       " 'ᆨ': 53,\n",
       " 'ᆩ': 54,\n",
       " 'ᆪ': 55,\n",
       " 'ᆫ': 56,\n",
       " 'ᆬ': 57,\n",
       " 'ᆭ': 58,\n",
       " 'ᆮ': 59,\n",
       " 'ᆯ': 60,\n",
       " 'ᆰ': 61,\n",
       " 'ᆱ': 62,\n",
       " 'ᆲ': 63,\n",
       " 'ᆳ': 64,\n",
       " 'ᆴ': 65,\n",
       " 'ᆵ': 66,\n",
       " 'ᆶ': 67,\n",
       " 'ᆷ': 68,\n",
       " 'ᆸ': 69,\n",
       " 'ᆹ': 70,\n",
       " 'ᆺ': 71,\n",
       " 'ᆻ': 72,\n",
       " 'ᆼ': 73,\n",
       " 'ᆽ': 74,\n",
       " 'ᆾ': 75,\n",
       " 'ᆿ': 76,\n",
       " 'ᇀ': 77,\n",
       " 'ᇁ': 78,\n",
       " 'ᇂ': 79,\n",
       " 'eos': 80}"
      ]
     },
     "execution_count": 9,
     "metadata": {},
     "output_type": "execute_result"
    }
   ],
   "source": [
    "_symbol_to_id"
   ]
  },
  {
   "cell_type": "code",
   "execution_count": 10,
   "metadata": {},
   "outputs": [],
   "source": [
    "quote_checker = \"\"\"([`\"'＂“‘])(.+?)([`\"'＂”’])\"\"\""
   ]
  },
  {
   "cell_type": "code",
   "execution_count": 11,
   "metadata": {},
   "outputs": [],
   "source": [
    "def is_lead(char):\n",
    "    return char in _jamo_leads"
   ]
  },
  {
   "cell_type": "code",
   "execution_count": 12,
   "metadata": {},
   "outputs": [
    {
     "data": {
      "text/plain": [
       "<function jamo.jamo.jamo_to_hcj(data)>"
      ]
     },
     "execution_count": 12,
     "metadata": {},
     "output_type": "execute_result"
    }
   ],
   "source": [
    "jamo_to_hcj"
   ]
  },
  {
   "cell_type": "code",
   "execution_count": 13,
   "metadata": {},
   "outputs": [],
   "source": [
    "from g2pk import G2p"
   ]
  },
  {
   "cell_type": "code",
   "execution_count": 14,
   "metadata": {},
   "outputs": [],
   "source": [
    "g2p = G2p()"
   ]
  },
  {
   "cell_type": "code",
   "execution_count": 15,
   "metadata": {},
   "outputs": [
    {
     "data": {
      "text/plain": [
       "'어제는 날씨가 말간는데, 오느른 흐리다.'"
      ]
     },
     "execution_count": 15,
     "metadata": {},
     "output_type": "execute_result"
    }
   ],
   "source": [
    "g2p(\"어제는 날씨가 맑았는데, 오늘은 흐리다.\")"
   ]
  },
  {
   "cell_type": "code",
   "execution_count": 16,
   "metadata": {},
   "outputs": [
    {
     "data": {
      "text/plain": [
       "'시늘 신꼬 얼른 CEO에 가서 호닌 신고 해라'"
      ]
     },
     "execution_count": 16,
     "metadata": {},
     "output_type": "execute_result"
    }
   ],
   "source": [
    "g2p(\"신을 신고 얼른 CEO에 가서 혼인 신고 해라\")"
   ]
  },
  {
   "cell_type": "code",
   "execution_count": 17,
   "metadata": {},
   "outputs": [],
   "source": [
    "etc_dictionary = {\"1+1\": \"원플러스원\", \"2+1\": \"투플러스원\"}\n",
    "english_dictionary = {\n",
    "    \"KOREA\": \"코리아\",\n",
    "    \"IDOL\": \"아이돌\",\n",
    "    \"IT\": \"아이티\",\n",
    "    \"IQ\": \"아이큐\",\n",
    "    \"UP\": \"업\",\n",
    "    \"DOWN\": \"다운\",\n",
    "    \"PC\": \"피씨\",\n",
    "    \"CCTV\": \"씨씨티비\",\n",
    "    \"SNS\": \"에스엔에스\",\n",
    "    \"AI\": \"에이아이\",\n",
    "    \"CEO\": \"씨이오\",\n",
    "    \"A\": \"에이\",\n",
    "    \"B\": \"비\",\n",
    "    \"C\": \"씨\",\n",
    "    \"D\": \"디\",\n",
    "    \"E\": \"이\",\n",
    "    \"F\": \"에프\",\n",
    "    \"G\": \"지\",\n",
    "    \"H\": \"에이치\",\n",
    "    \"I\": \"아이\",\n",
    "    \"J\": \"제이\",\n",
    "    \"K\": \"케이\",\n",
    "    \"L\": \"엘\",\n",
    "    \"M\": \"엠\",\n",
    "    \"N\": \"엔\",\n",
    "    \"O\": \"오\",\n",
    "    \"P\": \"피\",\n",
    "    \"Q\": \"큐\",\n",
    "    \"R\": \"알\",\n",
    "    \"S\": \"에스\",\n",
    "    \"T\": \"티\",\n",
    "    \"U\": \"유\",\n",
    "    \"V\": \"브이\",\n",
    "    \"W\": \"더블유\",\n",
    "    \"X\": \"엑스\",\n",
    "    \"Y\": \"와이\",\n",
    "    \"Z\": \"제트\",\n",
    "}\n"
   ]
  },
  {
   "cell_type": "code",
   "execution_count": 18,
   "metadata": {},
   "outputs": [],
   "source": [
    "import re\n",
    "\n",
    "def normalize(text):\n",
    "    text = text.strip()\n",
    "    text = re.sub(\"[⺀-⺙⺛-⻳⼀-⿕々〇〡-〩〸-〺〻㐀-䶵一-鿃豈-鶴侮-頻並-龎]\", \"\", text)\n",
    "    text = normalize_with_dictionary(text, etc_dictionary)\n",
    "    text = normalize_english(text)\n",
    "    text = text.lower()\n",
    "    return text\n",
    "\n",
    "\n",
    "def normalize_with_dictionary(text, dic):\n",
    "    if any(key in text for key in dic.keys()):\n",
    "        pattern = re.compile(\"|\".join(re.escape(key) for key in dic.keys()))\n",
    "        return pattern.sub(lambda x: dic[x.group()], text)\n",
    "    return text\n",
    "\n",
    "\n",
    "def normalize_english(text):\n",
    "    def fn(m):\n",
    "        word = m.group()\n",
    "        if word in english_dictionary:\n",
    "            return english_dictionary.get(word)\n",
    "        return word\n",
    "\n",
    "    text = re.sub(\"([A-Za-z]+)\", fn, text)\n",
    "    return text\n"
   ]
  },
  {
   "cell_type": "code",
   "execution_count": 19,
   "metadata": {},
   "outputs": [
    {
     "data": {
      "text/plain": [
       "'포상은 열심히 한 에이에게만 주어지기 때문에 포상인 것입니다.'"
      ]
     },
     "execution_count": 19,
     "metadata": {},
     "output_type": "execute_result"
    }
   ],
   "source": [
    "text = normalize(\"포상은 열심히 한 A에게만 주어지기 때문에 포상인 것입니다.\")\n",
    "text"
   ]
  },
  {
   "cell_type": "code",
   "execution_count": 20,
   "metadata": {},
   "outputs": [
    {
     "data": {
      "text/plain": [
       "'포상으 녈심히 하 네이에게만 주어지기 때무네 포상인 거심니다.'"
      ]
     },
     "execution_count": 20,
     "metadata": {},
     "output_type": "execute_result"
    }
   ],
   "source": [
    "text = g2p(text)\n",
    "text"
   ]
  },
  {
   "cell_type": "code",
   "execution_count": 22,
   "metadata": {},
   "outputs": [],
   "source": [
    "tokens = list(hangul_to_jamo(text))"
   ]
  },
  {
   "cell_type": "code",
   "execution_count": 23,
   "metadata": {},
   "outputs": [
    {
     "data": {
      "text/plain": [
       "['ᄑ', 'ᅩ', 'ᄉ', 'ᅡ', 'ᆼ', 'ᄋ', 'ᅳ', ' ', 'ᄂ', 'ᅧ']"
      ]
     },
     "execution_count": 23,
     "metadata": {},
     "output_type": "execute_result"
    }
   ],
   "source": [
    "tokens[:10]"
   ]
  },
  {
   "cell_type": "code",
   "execution_count": 30,
   "metadata": {},
   "outputs": [
    {
     "data": {
      "text/plain": [
       "dict_keys(['pad', '-', '!', \"'\", '(', ')', ',', '.', ':', ';', '?', ' ', 'ᄀ', 'ᄁ', 'ᄂ', 'ᄃ', 'ᄄ', 'ᄅ', 'ᄆ', 'ᄇ', 'ᄈ', 'ᄉ', 'ᄊ', 'ᄋ', 'ᄌ', 'ᄍ', 'ᄎ', 'ᄏ', 'ᄐ', 'ᄑ', 'ᄒ', 'ᅡ', 'ᅢ', 'ᅣ', 'ᅤ', 'ᅥ', 'ᅦ', 'ᅧ', 'ᅨ', 'ᅩ', 'ᅪ', 'ᅫ', 'ᅬ', 'ᅭ', 'ᅮ', 'ᅯ', 'ᅰ', 'ᅱ', 'ᅲ', 'ᅳ', 'ᅴ', 'ᅵ', 'ᆨ', 'ᆩ', 'ᆪ', 'ᆫ', 'ᆬ', 'ᆭ', 'ᆮ', 'ᆯ', 'ᆰ', 'ᆱ', 'ᆲ', 'ᆳ', 'ᆴ', 'ᆵ', 'ᆶ', 'ᆷ', 'ᆸ', 'ᆹ', 'ᆺ', 'ᆻ', 'ᆼ', 'ᆽ', 'ᆾ', 'ᆿ', 'ᇀ', 'ᇁ', 'ᇂ', 'eos'])"
      ]
     },
     "execution_count": 30,
     "metadata": {},
     "output_type": "execute_result"
    }
   ],
   "source": [
    "_symbol_to_id.keys()"
   ]
  },
  {
   "cell_type": "code",
   "execution_count": 32,
   "metadata": {},
   "outputs": [
    {
     "data": {
      "text/plain": [
       "'ᄑ'"
      ]
     },
     "execution_count": 32,
     "metadata": {},
     "output_type": "execute_result"
    }
   ],
   "source": [
    "_id_to_symbol[30]"
   ]
  },
  {
   "cell_type": "code",
   "execution_count": 24,
   "metadata": {},
   "outputs": [
    {
     "data": {
      "text/plain": [
       "[30,\n",
       " 40,\n",
       " 22,\n",
       " 32,\n",
       " 73,\n",
       " 24,\n",
       " 50,\n",
       " 12,\n",
       " 15,\n",
       " 38,\n",
       " 60,\n",
       " 22,\n",
       " 52,\n",
       " 68,\n",
       " 31,\n",
       " 52,\n",
       " 12,\n",
       " 31,\n",
       " 32,\n",
       " 12,\n",
       " 15,\n",
       " 37,\n",
       " 24,\n",
       " 52,\n",
       " 24,\n",
       " 37,\n",
       " 13,\n",
       " 37,\n",
       " 19,\n",
       " 32,\n",
       " 56,\n",
       " 12,\n",
       " 25,\n",
       " 45,\n",
       " 24,\n",
       " 36,\n",
       " 25,\n",
       " 52,\n",
       " 13,\n",
       " 52,\n",
       " 12,\n",
       " 17,\n",
       " 33,\n",
       " 19,\n",
       " 45,\n",
       " 15,\n",
       " 37,\n",
       " 12,\n",
       " 30,\n",
       " 40,\n",
       " 22,\n",
       " 32,\n",
       " 73,\n",
       " 24,\n",
       " 52,\n",
       " 56,\n",
       " 12,\n",
       " 13,\n",
       " 36,\n",
       " 22,\n",
       " 52,\n",
       " 68,\n",
       " 15,\n",
       " 52,\n",
       " 16,\n",
       " 32,\n",
       " 8]"
      ]
     },
     "execution_count": 24,
     "metadata": {},
     "output_type": "execute_result"
    }
   ],
   "source": [
    "[_symbol_to_id[token] for token in tokens]"
   ]
  },
  {
   "cell_type": "code",
   "execution_count": 34,
   "metadata": {},
   "outputs": [
    {
     "data": {
      "text/plain": [
       "'PoSangEu NyeolSimHi Ha NeIEGeMan JuEoJiGi TtaeMuNe PoSangIn GeoSimNiDa.'"
      ]
     },
     "execution_count": 34,
     "metadata": {},
     "output_type": "execute_result"
    }
   ],
   "source": [
    "text = anyascii(text)\n",
    "text"
   ]
  }
 ],
 "metadata": {
  "kernelspec": {
   "display_name": "test",
   "language": "python",
   "name": "python3"
  },
  "language_info": {
   "codemirror_mode": {
    "name": "ipython",
    "version": 3
   },
   "file_extension": ".py",
   "mimetype": "text/x-python",
   "name": "python",
   "nbconvert_exporter": "python",
   "pygments_lexer": "ipython3",
   "version": "3.10.11"
  },
  "orig_nbformat": 4
 },
 "nbformat": 4,
 "nbformat_minor": 2
}
